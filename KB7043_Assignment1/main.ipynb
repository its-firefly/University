{
 "cells": [
  {
   "cell_type": "code",
   "execution_count": 55,
   "id": "d3e83132-49d1-4ede-a4c6-db0b4a86b122",
   "metadata": {},
   "outputs": [],
   "source": [
    "import numpy as np\n",
    "from scipy.integrate import quad\n",
    "import pyswarms as ps\n",
    "from pyDOE import lhs\n",
    "import matplotlib.pyplot as plt\n"
   ]
  },
  {
   "cell_type": "code",
   "execution_count": 56,
   "id": "bb29a14d-1f8e-4c85-a133-f03f6c550738",
   "metadata": {},
   "outputs": [],
   "source": [
    "#variables for the problem\n",
    "\n",
    "ms = 376\n",
    "mu = 53\n",
    "ks = 20000 #designVariable x(2)\n",
    "kt = 170000 #designVariable x(3)\n",
    "cs = 640 #designVariable x(1)\n",
    "ct = 0\n",
    "v = 28\n",
    "Gd = 0.000016\n",
    "\n",
    "mass = np.array([ms, mu])\n",
    "kStiffness = np.array([ks, kt])\n",
    "cDamping = np.array([cs, ct])\n"
   ]
  },
  {
   "cell_type": "markdown",
   "id": "89042935",
   "metadata": {},
   "source": [
    "the 'quad' function in scipy returns a multidimensional array, which is not recognised as the objective function in the pyswarms library because of the way it is set up, so we return the first row of quad fn by indexing the first value i.e var[0] "
   ]
  },
  {
   "cell_type": "code",
   "execution_count": 57,
   "id": "8201bfc8",
   "metadata": {},
   "outputs": [],
   "source": [
    "def psdRoadPert(x, v, Gd):\n",
    "    return ((Gd)/(2*v))*((x/v)**-2)\n",
    "\n",
    "def transferFunction(x, mass, cDamping, kStiffness):\n",
    "    s = 1j*x\n",
    "    A = s**2*mass[1] + s*np.sum(cDamping) + np.sum(kStiffness)\n",
    "    B = s*cDamping[1] + kStiffness[1]\n",
    "    C = s**2*mass[0] + s*cDamping[1] + kStiffness[1]\n",
    "    D = B\n",
    "    E = s*cDamping[0] + kStiffness[0]\n",
    "    value = E*D/(A*C - B*D)\n",
    "    return np.abs(value)\n",
    "\n",
    "def psdSprungMassAccel(x, mass, cDamping, kStiffness, v, Gd):\n",
    "    a = x**4\n",
    "    b = transferFunction(x, mass, cDamping, kStiffness)\n",
    "    c = psdRoadPert(x, v, Gd)\n",
    "    return a*(b**2)*c\n",
    "\n",
    "def varianceSprungMassAccel(mass, cDamping, kStiffness, v, Gd):\n",
    "    integFun = lambda x: psdSprungMassAccel(x, mass, cDamping, kStiffness, v, Gd)\n",
    "    res = quad(integFun, -np.inf, np.inf)\n",
    "    return res[0]\n"
   ]
  },
  {
   "cell_type": "markdown",
   "id": "045cd47d",
   "metadata": {},
   "source": [
    "lhs is a sampling method in a given design space and is used to give the initial spawn points for the particles in PSO evaluation\n",
    "\n",
    "ravel flattens the array into a vector"
   ]
  },
  {
   "cell_type": "code",
   "execution_count": 58,
   "id": "12ec2046-0b5c-45cc-9ddf-d36a20e1ae7f",
   "metadata": {},
   "outputs": [],
   "source": [
    "lb = np.array([[640, 20000, 170000]])\n",
    "ub = np.array([[4300, 30000, 260000]])\n",
    "bounds = (lb.ravel(),ub.ravel())\n",
    "x0 = lhs(3,1500)\n",
    "x0 = lb + (ub - lb) * x0"
   ]
  },
  {
   "cell_type": "code",
   "execution_count": 59,
   "id": "acde6487",
   "metadata": {},
   "outputs": [
    {
     "name": "stderr",
     "output_type": "stream",
     "text": [
      "2022-08-21 17:04:34,232 - pyswarms.single.global_best - INFO - Optimize for 1000 iters with {'c1': 1.49, 'c2': 1.49, 'w': 0.5}\n",
      "pyswarms.single.global_best: 100%|██████████|1000/1000, best_cost=4.58\n",
      "2022-08-21 17:04:47,744 - pyswarms.single.global_best - INFO - Optimization finished | best cost: 4.57851538939396, best pos: [  4186.6357761   22878.21593784 206893.01031079]\n"
     ]
    }
   ],
   "source": [
    "objFunction = lambda x: varianceSprungMassAccel(mass, np.array([ct, x.ravel()[0]]), np.array([x.ravel()[2], x.ravel()[1]]), v, Gd)\n",
    "\n",
    "options = {'c1': 1.49, 'c2': 1.49, 'w':0.5}\n",
    "pso = ps.single.GlobalBestPSO(n_particles=x0.shape[0], dimensions=3, options=options, bounds=bounds, init_pos=x0)\n",
    "\n",
    "cost, pos = pso.optimize(objFunction, iters=1000)\n"
   ]
  },
  {
   "cell_type": "code",
   "execution_count": 60,
   "id": "b5f8b574",
   "metadata": {},
   "outputs": [
    {
     "data": {
      "image/png": "[encoded data removed]",
      "text/plain": [
       "<Figure size 640x480 with 1 Axes>"
      ]
     },
     "metadata": {},
     "output_type": "display_data"
    }
   ],
   "source": [
    "history = pso.cost_history\n",
    "plt.plot(history)\n",
    "plt.show()"
   ]
  }
 ],
 "metadata": {
  "kernelspec": {
   "display_name": "Python 3.10.5 64-bit",
   "language": "python",
   "name": "python3"
  },
  "language_info": {
   "codemirror_mode": {
    "name": "ipython",
    "version": 3
   },
   "file_extension": ".py",
   "mimetype": "text/x-python",
   "name": "python",
   "nbconvert_exporter": "python",
   "pygments_lexer": "ipython3",
   "version": "3.10.5"
  },
  "vscode": {
   "interpreter": {
    "hash": "369f2c481f4da34e4445cda3fffd2e751bd1c4d706f27375911949ba6bb62e1c"
   }
  }
 },
 "nbformat": 4,
 "nbformat_minor": 5
}
