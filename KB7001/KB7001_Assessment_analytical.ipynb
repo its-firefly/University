{
 "cells": [
  {
   "cell_type": "code",
   "execution_count": 1,
   "metadata": {},
   "outputs": [],
   "source": [
    "import numpy as np\n",
    "import matplotlib.pyplot as plt"
   ]
  },
  {
   "cell_type": "markdown",
   "metadata": {},
   "source": [
    "Defining the parameters"
   ]
  },
  {
   "cell_type": "code",
   "execution_count": 2,
   "metadata": {},
   "outputs": [],
   "source": [
    "#massflowrates (kg/s)\n",
    "massFlowOil = 0.03\n",
    "massFlowWater = 0.1\n",
    "\n",
    "#sp heat (J/kg-K)\n",
    "spHeatOil = 2131\n",
    "spHeatWater = 4178\n",
    "\n",
    "#inlet temps (K)\n",
    "tempInOil = 160 #433.15 \n",
    "tempInWater = 35 #308.15\n",
    "\n",
    "#dynamic viscosity (N-s/m^2)\n",
    "viscOil = 3.25e-2 \n",
    "viscWater = 725e-6\n",
    "\n",
    "#Thermal Conductivity (W/m-K)\n",
    "kOil = 0.138 \n",
    "kWater = 0.625\n",
    "\n",
    "#Prandtl Number\n",
    "prOil = 501 \n",
    "prWater = 4.85 \n",
    "\n",
    "#hydrauilic diameter (m)\n",
    "dOil = 30e-3 \n",
    "dWaterO = 50e-3\n",
    "dWaterI = 34e-3\n",
    "dWater = dWaterO - dWaterI\n",
    "\n",
    "#HE material properties Copper\n",
    "price = 9.25 #£/kg\n",
    "densityCu = 8900 #kg/m^3\n",
    "kCu = 400 #W/m-K"
   ]
  },
  {
   "cell_type": "code",
   "execution_count": 3,
   "metadata": {},
   "outputs": [],
   "source": [
    "cMin = spHeatOil*massFlowOil\n",
    "cMax = spHeatWater*massFlowWater\n",
    "\n",
    "cR = cMin/cMax\n",
    "\n",
    "# aOil = (np.pi*(dOil**2))/4\n",
    "# aWater = (np.pi*(dWaterO**2-dWaterI**2))/4\n",
    "\n",
    "\n",
    "reOil = (4*massFlowOil*dOil)/(np.pi*dOil**2*viscOil)\n",
    "\n",
    "reWater = (4*massFlowWater*dWater)/(np.pi*(dWaterO**2-dWaterI**2)*viscWater) "
   ]
  },
  {
   "cell_type": "code",
   "execution_count": 4,
   "metadata": {},
   "outputs": [],
   "source": [
    "approxL = np.linspace(0.1,2)\n",
    "approxL = np.array([1,100])\n",
    "\n",
    "def nuOiltest(al,adOil,areOil,aprOil):\n",
    "    d = adOil/al        \n",
    "    return (3.66+((0.0668*d*areOil*aprOil)/(1+(0.04*(pow(d*areOil*aprOil,2/3))))))\n",
    "\n",
    "def nuWatercalc(re,pr,len,d):\n",
    "\n",
    "    c = 1\n",
    "    m = 2/3\n",
    "    x = len/d\n",
    "    f = pow((0.790*np.log(re))-1.64,-2)\n",
    "    nufd = ((f/8)*(re-1000)*pr)/(1+((12.7*pow(f/8,1/2))*(pow(pr,2/3)-1)))\n",
    "\n",
    "    Nu = nufd*(1+(c/pow(x,m)))\n",
    "       \n",
    "    return Nu, nufd\n"
   ]
  },
  {
   "cell_type": "code",
   "execution_count": 5,
   "metadata": {},
   "outputs": [],
   "source": [
    "nuOil = 4.36\n",
    "\n",
    "hOil = (nuOil * kOil)/dOil\n",
    "tempOutWater = []\n",
    "H_Overall = []\n",
    "\n",
    "for L in approxL:\n",
    "    \n",
    "    x,y =  nuWatercalc(reWater,prWater,L,dWater)\n",
    "\n",
    "    if L/dWater < 60:\n",
    "        nuWater = x\n",
    "\n",
    "    else:\n",
    "         nuWater = y\n",
    "\n",
    "    hWater = (nuWater * kWater)/dWater\n",
    "    rWall = np.log(dWaterI/dOil)/((2*np.pi*kCu)*L)\n",
    "\n",
    "    aOil = dOil*L \n",
    "    aWater = dWaterO*L #????\n",
    "\n",
    "    overallH = (1/(hOil*aOil)) + rWall + (1/(hWater*aWater))\n",
    "\n",
    "    # H_Overall.append(1/overallH)\n",
    "\n",
    "    a = 1/overallH\n",
    "\n",
    "    NTU = a/cMin\n",
    "    b = NTU*(1 - cR)\n",
    "\n",
    "    effectiveness = (1-np.exp(-b))/(1-(cR*np.exp(-b)))\n",
    "    \n",
    "\n",
    "    tempOutWater.append(((effectiveness*cMin*(tempInOil-tempInWater))/cMax) + tempInWater)\n",
    "    \n",
    "\n",
    "\n",
    "    \n"
   ]
  },
  {
   "cell_type": "code",
   "execution_count": 6,
   "metadata": {},
   "outputs": [],
   "source": [
    "test1mOil = nuWatercalc(reWater,prWater,1,dWater)\n",
    "test1mWater = nuOiltest(1,dWater,reWater,prWater) "
   ]
  },
  {
   "cell_type": "code",
   "execution_count": 7,
   "metadata": {},
   "outputs": [],
   "source": [
    "tempOutOil = tempInOil - ((cMin/cMax)*(tempOutWater[1] - tempInWater))"
   ]
  },
  {
   "cell_type": "code",
   "execution_count": 7,
   "metadata": {},
   "outputs": [],
   "source": []
  }
 ],
 "metadata": {
  "kernelspec": {
   "display_name": "Python 3.10.6 ('pytorch')",
   "language": "python",
   "name": "python3"
  },
  "language_info": {
   "codemirror_mode": {
    "name": "ipython",
    "version": 3
   },
   "file_extension": ".py",
   "mimetype": "text/x-python",
   "name": "python",
   "nbconvert_exporter": "python",
   "pygments_lexer": "ipython3",
   "version": "3.10.6"
  },
  "orig_nbformat": 4,
  "vscode": {
   "interpreter": {
    "hash": "b51628aeb785c9c60b3beba8b7e79cbaaee0de8b8034354ab2b4ca7f7d794c84"
   }
  }
 },
 "nbformat": 4,
 "nbformat_minor": 2
}
